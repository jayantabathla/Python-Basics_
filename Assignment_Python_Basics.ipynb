{
  "nbformat": 4,
  "nbformat_minor": 0,
  "metadata": {
    "colab": {
      "provenance": []
    },
    "kernelspec": {
      "name": "python3",
      "display_name": "Python 3"
    },
    "language_info": {
      "name": "python"
    }
  },
  "cells": [
    {
      "cell_type": "markdown",
      "source": [
        "#Python Basic Questions"
      ],
      "metadata": {
        "id": "kLmd1Hzujxqt"
      }
    },
    {
      "cell_type": "markdown",
      "source": [
        "(1) What is Python, and why is it popular?\n",
        "\n",
        "(Ans) Python is a widely used high level programming language. It is popular because of it has an easy syntax, has a large community, is versatile and readable. It has wide applicability, in the fields of AI, data science and web.\n",
        "\n",
        "\n"
      ],
      "metadata": {
        "id": "o7nrU2f2j6eM"
      }
    },
    {
      "cell_type": "markdown",
      "source": [
        "(2) What is an interpreter in Python?\n",
        "\n",
        "(Ans) An Interpreter in Python is used to translate high level human language into machine understandable binary numbers 0 and 1. It translates the human written python codes into machine language so that the machine can excecute those commands. Also the way it operates is by executing code line by line. It allows the user to run scripts interactively. This makes it easier to debug and develop code quickly."
      ],
      "metadata": {
        "id": "5T4AB1SPj-lK"
      }
    },
    {
      "cell_type": "markdown",
      "source": [
        "(3) What are pre-defined keywords in Python?\n",
        "\n",
        "(Ans) Pre-defined keywords in Python that are reserved words that have a specific serve a specific purpose and are used to complete certain functions and operations in Python. The Examples include true and false, for, while, if-else.       "
      ],
      "metadata": {
        "id": "5WEtH6u7j_0U"
      }
    },
    {
      "cell_type": "markdown",
      "source": [
        "(4) Can keywords be used as variable names?\n",
        "\n",
        "(Ans) No. Keywords in Python are only reserved for a certain set of operations and functions, hence they cannot be used to name variables."
      ],
      "metadata": {
        "id": "zVdbTzN30PmI"
      }
    },
    {
      "cell_type": "markdown",
      "source": [
        "(5) What is mutability in Python?\n",
        "\n",
        "(Ans) The ability to make changes/ammends into an object after creation. Eg- lists are mutable and strings are immutable."
      ],
      "metadata": {
        "id": "9RwZUsFIJN1Y"
      }
    },
    {
      "cell_type": "markdown",
      "source": [
        "(6) Why are lists mutable, but tuples are immutable?\n",
        "\n",
        "(Ans) Lists are designed to be flexible, so they allow modification of elements. Tuples on the other hand are fixed collectibles, making them a faster and safer in situations where data is not supposed to change.      "
      ],
      "metadata": {
        "id": "imL04EN8hjAy"
      }
    },
    {
      "cell_type": "markdown",
      "source": [
        "(7) What is the difference between \"==\" and \"is\" operators in Python?\n",
        "\n",
        "(Ans) \"==\" checks if the values of the two objects are equal, while \"is\" checks if two variables point to the same memory location.     "
      ],
      "metadata": {
        "id": "Z1uxcWdNDRCq"
      }
    },
    {
      "cell_type": "markdown",
      "source": [
        "(8) What are logical operators in Python?\n",
        "\n",
        "(Ans) Logical operators in Python (and, or, not) are used to combine multiple boolean conditions and return True or False. The and operator returns True if both conditions are True, or returns True if at least one condition is True, and not negates a boolean value.\n",
        "\n"
      ],
      "metadata": {
        "id": "82g2gHNn-zfs"
      }
    },
    {
      "cell_type": "markdown",
      "source": [
        "(9) What is type casting in Python?\n",
        "\n",
        "(Ans) Type casting is the process of converting a variable from one data type to another. It can be done using built-in functions like int(), float(), str(), and bool(). This is useful when performing operations that require specific data types, such as mathematical calculations or string manipulations."
      ],
      "metadata": {
        "id": "cMSR-MNWkzNy"
      }
    },
    {
      "cell_type": "markdown",
      "source": [
        "(10) What is the difference between implicit and explicit type casting?\n",
        "\n",
        "(Ans) Implicit Type Casting: Python automatically converts smaller data types to larger ones to avoid data loss. For example, adding an int and a float results in a float.\n",
        "Explicit Type Casting: The user manually converts a variable’s type using functions like int(), float(), or str(), which is necessary when Python does not handle conversions automatically.\n",
        "What is the purpose of conditional statements in Python?\n",
        "Conditional statements (if, elif, else) allow a program to make decisions and execute different code blocks based on conditions. They enable dynamic control flow, making programs more interactive and responsive to user input or other data conditions."
      ],
      "metadata": {
        "id": "DNSs7_sZlEpp"
      }
    },
    {
      "cell_type": "markdown",
      "source": [
        "(11) What is the purpose of conditional statements in Python\n",
        "\n",
        "(Ans) Conditional statements in Python control the flow of execution based on conditions. They allow the program to make decisions using if, elif, and else statements. These statements execute different code blocks depending on whether a condition evaluates to True or False, enabling dynamic and logical decision-making in a program."
      ],
      "metadata": {
        "id": "pjpxehnC6oNK"
      }
    },
    {
      "cell_type": "markdown",
      "source": [
        "(12) How does the elif statement work?\n",
        "\n",
        "(Ans) The elif (short for \"else if\") statement is used when multiple conditions need to be checked. It follows an if statement and executes if the previous conditions are False but its own condition is True. It prevents unnecessary evaluations by stopping execution once a True condition is found."
      ],
      "metadata": {
        "id": "ap8icQ1ulvLu"
      }
    },
    {
      "cell_type": "markdown",
      "source": [
        "(13) What is the difference between for and while loops?\n",
        "(Ans) For loop: Used when the number of iterations is known or when iterating over a sequence like a list, tuple, or range.\n",
        "\n",
        "While loop: Used when the number of iterations is unknown and depends on a condition being True. It continues looping until the condition becomes False.\n",
        "Describe a scenario where a while loop is more suitable than a for loop.\n",
        "A while loop is better suited for cases where the number of iterations is not predetermined. For example, in a login system, a while loop can keep prompting the user for a password until they enter the correct one. It is useful for event-driven loops where termination depends on a specific condition being met."
      ],
      "metadata": {
        "id": "TeEOzTTjlzf7"
      }
    },
    {
      "cell_type": "markdown",
      "source": [
        "(14) Descriobe a scenario where while loop is more preferable over for loop.\n",
        "\n",
        "(Ans) A while loop is better when the number of iterations is unknown and depends on a condition. For example, in a login system, a while loop can keep asking for a password until the user enters the correct one or exceeds the maximum attempts."
      ],
      "metadata": {
        "id": "bdxxp7Juz9d4"
      }
    },
    {
      "cell_type": "markdown",
      "source": [
        "#Practical Questions\n"
      ],
      "metadata": {
        "id": "OOtJU180QYBJ"
      }
    },
    {
      "cell_type": "code",
      "execution_count": null,
      "metadata": {
        "colab": {
          "base_uri": "https://localhost:8080/"
        },
        "id": "SYc2Vs_pP-rb",
        "outputId": "3d334019-7a55-4507-f70f-ba1ab4c19604"
      },
      "outputs": [
        {
          "output_type": "stream",
          "name": "stdout",
          "text": [
            "Hello, World!\n"
          ]
        }
      ],
      "source": [
        "#question 1\n",
        "\n",
        "print(\"Hello, World!\")"
      ]
    },
    {
      "cell_type": "code",
      "source": [
        "#question 2\n",
        "\n",
        "name = input(\"Enter your name...\")\n",
        "age = int(input(\"Enter your age...\"))\n",
        "\n",
        "print(\"Your name is\",name,\"and you are\",age,\"years old.\")"
      ],
      "metadata": {
        "colab": {
          "base_uri": "https://localhost:8080/"
        },
        "id": "qROIa6r4RqGM",
        "outputId": "4b2d7a22-33b0-4edc-8d95-92bad78b8e91"
      },
      "execution_count": null,
      "outputs": [
        {
          "output_type": "stream",
          "name": "stdout",
          "text": [
            "Enter your name...ray\n",
            "Enter your age...23\n",
            "Your name is ray and you are 23 years old.\n"
          ]
        }
      ]
    },
    {
      "cell_type": "code",
      "source": [
        " #question 3\n",
        "\n",
        "import keyword\n",
        "a = keyword.kwlist\n",
        "print(a)"
      ],
      "metadata": {
        "colab": {
          "base_uri": "https://localhost:8080/"
        },
        "id": "ddA3W9wexdVn",
        "outputId": "a344900e-5323-4f9d-b2db-e1116360c6ff"
      },
      "execution_count": null,
      "outputs": [
        {
          "output_type": "stream",
          "name": "stdout",
          "text": [
            "['False', 'None', 'True', 'and', 'as', 'assert', 'async', 'await', 'break', 'class', 'continue', 'def', 'del', 'elif', 'else', 'except', 'finally', 'for', 'from', 'global', 'if', 'import', 'in', 'is', 'lambda', 'nonlocal', 'not', 'or', 'pass', 'raise', 'return', 'try', 'while', 'with', 'yield']\n"
          ]
        }
      ]
    },
    {
      "cell_type": "code",
      "source": [
        " #question 4\n",
        "\n",
        "import keyword\n",
        "\n",
        "a = input(\"Enter a word...\")\n",
        "\n",
        "b = keyword.kwlist\n",
        "\n",
        "if a in b:\n",
        "  print(\"It is a keyword\")\n",
        "else:\n",
        "  print(\"It is not a keyword\")"
      ],
      "metadata": {
        "colab": {
          "base_uri": "https://localhost:8080/"
        },
        "id": "YKhuIgrhxuao",
        "outputId": "38756091-44e0-4b01-a636-a73d2f972f23"
      },
      "execution_count": null,
      "outputs": [
        {
          "output_type": "stream",
          "name": "stdout",
          "text": [
            "Enter a word...j\n",
            "It is not a keyword\n"
          ]
        }
      ]
    },
    {
      "cell_type": "code",
      "source": [
        " #question 5\n",
        "\n",
        "a = (1,2,3,14,5)\n",
        "\n",
        "b = [6,7,8,19,10]\n",
        "\n",
        "print(\"Original tuple is...\",a)\n",
        "print(\"Original list is...\",b)\n",
        "\n",
        "try:\n",
        "  a[3] = 4\n",
        "except TypeError as e:\n",
        "  print(\"Error, tuple is immutable\", e)\n",
        "\n",
        "b[3] = 9\n",
        "\n",
        "print(\"Modified list is...\",b)\n"
      ],
      "metadata": {
        "colab": {
          "base_uri": "https://localhost:8080/"
        },
        "id": "9IExSyxN0NZV",
        "outputId": "194dbe1c-08c9-4997-e969-be0ee4fecc53"
      },
      "execution_count": null,
      "outputs": [
        {
          "output_type": "stream",
          "name": "stdout",
          "text": [
            "Original tuple is... (1, 2, 3, 14, 5)\n",
            "Original list is... [6, 7, 8, 19, 10]\n",
            "Error, tuple is immutable 'tuple' object does not support item assignment\n",
            "Modified list is... [6, 7, 8, 9, 10]\n"
          ]
        }
      ]
    },
    {
      "cell_type": "code",
      "source": [
        " #question 6\n",
        "\n",
        "def operation(a,b):\n",
        "  a = a + \"Night\"\n",
        "  b.append(11)\n",
        "\n",
        "\n",
        "x = \"Good\"\n",
        "y = [1,2,3,4,5,6,7,8,9,10]\n",
        "\n",
        "operation(x,y)\n",
        "\n",
        "\n",
        "print((\"Immutable...\",x))\n",
        "print((\"Mutable...\",y))"
      ],
      "metadata": {
        "id": "IddowwyD4ke7"
      },
      "execution_count": null,
      "outputs": []
    },
    {
      "cell_type": "code",
      "source": [
        "  #question 7\n",
        "\n",
        "def operation(a,b):\n",
        "  a = a + \"Night\"\n",
        "  b.append(11)\n",
        "\n",
        "\n",
        "x = \"Good\"\n",
        "y = [1,2,3,4,5,6,7,8,9,10]\n",
        "\n",
        "operation(x,y)\n",
        "\n",
        "\n",
        "print((\"Immutable...\",x))\n",
        "print((\"Mutable...\",y))"
      ],
      "metadata": {
        "id": "ELi-lAl0f5KE"
      },
      "execution_count": null,
      "outputs": []
    },
    {
      "cell_type": "code",
      "source": [
        " #question 8\n",
        "\n",
        "a = int(input(\"Enter a number: \"))\n",
        "b = int(input(\"Enter another number: \"))\n",
        "\n",
        "# Using 'and' operator: Both conditions must be True\n",
        "if (a > 0) and (b > 0):\n",
        "    print(\"Both numbers are positive.\")\n",
        "\n",
        "# Using 'or' operator: At least one condition must be True\n",
        "if (a > 0) or (b > 0):\n",
        "    print(\"At least one of the numbers is positive.\")\n",
        "\n",
        "# Using 'not' operator: Reverses the condition\n",
        "if not (a > 0):\n",
        "    print(\"The first number is not positive.\")\n",
        "\n",
        "if not (b < 0):\n",
        "    print(\"The second number is not negative.\")\n",
        "\n"
      ],
      "metadata": {
        "id": "EC_F2KayCyOz"
      },
      "execution_count": null,
      "outputs": []
    },
    {
      "cell_type": "code",
      "source": [
        "  #question 9\n",
        "\n",
        "# Python program to convert user input into different data types\n",
        "\n",
        "a = input(\"Enter input: \")\n",
        "\n",
        "try:\n",
        "    # Convert input to integer\n",
        "    a_int = int(a)\n",
        "    print(\"Integer type for this input is:\", a_int, type(a_int))\n",
        "except ValueError:\n",
        "    print(\"Invalid integer input\")\n",
        "\n",
        "try:\n",
        "    # Convert input to float\n",
        "    a_float = float(a)\n",
        "    print(\"Float type for this input is:\", a_float, type(a_float))\n",
        "except ValueError:\n",
        "    print(\"Invalid float input\")\n",
        "\n",
        "# Convert input to boolean\n",
        "a_bool = bool(a)\n",
        "print(\"Boolean type for this input is:\", a_bool, type(a_bool))\n"
      ],
      "metadata": {
        "colab": {
          "base_uri": "https://localhost:8080/"
        },
        "id": "vENGaDCsN6_a",
        "outputId": "c5eb1c96-d1e8-4b0d-e0d5-6071ec7370dc"
      },
      "execution_count": null,
      "outputs": [
        {
          "output_type": "stream",
          "name": "stdout",
          "text": [
            "Enter input: name\n",
            "Invalid integer input\n",
            "Invalid float input\n",
            "Boolean type for this input is: True <class 'bool'>\n"
          ]
        }
      ]
    },
    {
      "cell_type": "code",
      "source": [
        "  #question 10\n",
        "\n",
        "# Simple type casting using a for loop\n",
        "\n",
        "# Sample list with mixed data types\n",
        "mixed_list = [\"1\", \"2\", 3, \"4\"]\n",
        "\n",
        "# Convert all elements to integers (if possible)\n",
        "int_list = []\n",
        "for i in mixed_list:\n",
        "    int_list.append(int(i))\n",
        "print(\"List as Integers:\", int_list)\n",
        "\n",
        "# Convert all elements to floats\n",
        "float_list = []\n",
        "for i in mixed_list:\n",
        "    float_list.append(float(i))\n",
        "print(\"List as Floats:\", float_list)\n",
        "\n",
        "# Convert all elements to strings\n",
        "string_list = []\n",
        "for i in mixed_list:\n",
        "    string_list.append(str(i))\n",
        "print(\"List as Strings:\", string_list)\n"
      ],
      "metadata": {
        "id": "h9jZq901YoKT"
      },
      "execution_count": null,
      "outputs": []
    },
    {
      "cell_type": "code",
      "source": [
        "  #question 11\n",
        "\n",
        "x =int(input(\"Enter number\"))\n",
        "\n",
        "if x!=0:\n",
        "  if x > 0:\n",
        "    print(\"The number is positive\")\n",
        "  else:\n",
        "    print(\"The number is negative\")\n",
        "else:\n",
        "  print(\"The number is zero\")"
      ],
      "metadata": {
        "colab": {
          "base_uri": "https://localhost:8080/"
        },
        "id": "ivPD5IMPT8Pw",
        "outputId": "af27a0be-d34d-4663-87af-978d7cceaa4f"
      },
      "execution_count": null,
      "outputs": [
        {
          "output_type": "stream",
          "name": "stdout",
          "text": [
            "Enter number-2\n",
            "The number is negative\n"
          ]
        }
      ]
    },
    {
      "cell_type": "code",
      "source": [
        "  #question 12\n",
        "\n",
        "  for i in range(1,11):\n",
        "  print(i)\n"
      ],
      "metadata": {
        "colab": {
          "base_uri": "https://localhost:8080/"
        },
        "id": "cTVBEWwmUzVP",
        "outputId": "9563e74c-81a4-459f-988b-b817436524cf"
      },
      "execution_count": null,
      "outputs": [
        {
          "output_type": "stream",
          "name": "stdout",
          "text": [
            "1\n",
            "2\n",
            "3\n",
            "4\n",
            "5\n",
            "6\n",
            "7\n",
            "8\n",
            "9\n",
            "10\n"
          ]
        }
      ]
    },
    {
      "cell_type": "code",
      "source": [
        "#question 13\n",
        "\n",
        "sum = 0\n",
        "for i in range(1,51):\n",
        "  if (i%2==0):\n",
        "    sum+=i\n",
        "print(\"Sum of all even numbers between 1 and 50 is:\",sum)"
      ],
      "metadata": {
        "colab": {
          "base_uri": "https://localhost:8080/"
        },
        "id": "aKHhioh0VCiQ",
        "outputId": "a946d460-1844-4f32-e019-f25c4d068f60"
      },
      "execution_count": null,
      "outputs": [
        {
          "output_type": "stream",
          "name": "stdout",
          "text": [
            "Sum of all even numbers between 1 and 50 is: 650\n"
          ]
        }
      ]
    },
    {
      "cell_type": "code",
      "source": [
        " #question 14\n",
        "\n",
        "input_string = input(\"Enter string...\")\n",
        "reversed_string = \"\"\n",
        "i = len(input_string) - 1\n",
        "\n",
        "while i >= 0:\n",
        "    reversed_string += input_string[i]\n",
        "    i -= 1\n",
        "\n",
        "print(reversed_string)"
      ],
      "metadata": {
        "id": "_qZKrPd2NU1u",
        "colab": {
          "base_uri": "https://localhost:8080/"
        },
        "outputId": "99b27d1f-acaf-40f8-d070-ce6b6ce2d330"
      },
      "execution_count": null,
      "outputs": [
        {
          "output_type": "stream",
          "name": "stdout",
          "text": [
            "Enter string...man\n",
            "nam\n"
          ]
        }
      ]
    },
    {
      "cell_type": "code",
      "source": [
        "\n",
        " #question 15\n",
        "\n",
        "a = int(input(\"Enter number...\"))\n",
        "fact = 1\n",
        "i = 1\n",
        "while i < (a+1):\n",
        "  fact*=i\n",
        "  i+=1\n",
        "print(fact)"
      ],
      "metadata": {
        "colab": {
          "base_uri": "https://localhost:8080/"
        },
        "id": "pfdBey19W1tj",
        "outputId": "3a457d4f-e72e-4f87-e0ec-418c91e64703"
      },
      "execution_count": null,
      "outputs": [
        {
          "output_type": "stream",
          "name": "stdout",
          "text": [
            "Enter number...5\n",
            "120\n"
          ]
        }
      ]
    }
  ]
}